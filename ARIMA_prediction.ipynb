{
  "nbformat": 4,
  "nbformat_minor": 0,
  "metadata": {
    "colab": {
      "provenance": [],
      "authorship_tag": "ABX9TyPF0gdrhhnmJ9tIpwnNb7b9",
      "include_colab_link": true
    },
    "kernelspec": {
      "name": "python3",
      "display_name": "Python 3"
    },
    "language_info": {
      "name": "python"
    }
  },
  "cells": [
    {
      "cell_type": "markdown",
      "metadata": {
        "id": "view-in-github",
        "colab_type": "text"
      },
      "source": [
        "<a href=\"https://colab.research.google.com/github/SahajTC/Augmented-Financial-Intelligence/blob/main/ARIMA_prediction.ipynb\" target=\"_parent\"><img src=\"https://colab.research.google.com/assets/colab-badge.svg\" alt=\"Open In Colab\"/></a>"
      ]
    },
    {
      "cell_type": "code",
      "execution_count": 24,
      "metadata": {
        "colab": {
          "base_uri": "https://localhost:8080/"
        },
        "id": "AC2Y3-D2UJZu",
        "outputId": "6e9607bd-f4c1-4fd8-daf2-0d0ea425a46b"
      },
      "outputs": [
        {
          "output_type": "stream",
          "name": "stdout",
          "text": [
            "Looking in indexes: https://pypi.org/simple, https://us-python.pkg.dev/colab-wheels/public/simple/\n",
            "Requirement already satisfied: yfinance in /usr/local/lib/python3.8/dist-packages (0.2.3)\n",
            "Requirement already satisfied: multitasking>=0.0.7 in /usr/local/lib/python3.8/dist-packages (from yfinance) (0.0.11)\n",
            "Requirement already satisfied: appdirs>=1.4.4 in /usr/local/lib/python3.8/dist-packages (from yfinance) (1.4.4)\n",
            "Requirement already satisfied: numpy>=1.16.5 in /usr/local/lib/python3.8/dist-packages (from yfinance) (1.21.6)\n",
            "Requirement already satisfied: requests>=2.26 in /usr/local/lib/python3.8/dist-packages (from yfinance) (2.28.2)\n",
            "Requirement already satisfied: lxml>=4.9.1 in /usr/local/lib/python3.8/dist-packages (from yfinance) (4.9.2)\n",
            "Requirement already satisfied: pytz>=2022.5 in /usr/local/lib/python3.8/dist-packages (from yfinance) (2022.7)\n",
            "Requirement already satisfied: beautifulsoup4>=4.11.1 in /usr/local/lib/python3.8/dist-packages (from yfinance) (4.11.1)\n",
            "Requirement already satisfied: html5lib>=1.1 in /usr/local/lib/python3.8/dist-packages (from yfinance) (1.1)\n",
            "Requirement already satisfied: pandas>=1.3.0 in /usr/local/lib/python3.8/dist-packages (from yfinance) (1.3.5)\n",
            "Requirement already satisfied: frozendict>=2.3.4 in /usr/local/lib/python3.8/dist-packages (from yfinance) (2.3.4)\n",
            "Requirement already satisfied: cryptography>=3.3.2 in /usr/local/lib/python3.8/dist-packages (from yfinance) (39.0.0)\n",
            "Requirement already satisfied: soupsieve>1.2 in /usr/local/lib/python3.8/dist-packages (from beautifulsoup4>=4.11.1->yfinance) (2.3.2.post1)\n",
            "Requirement already satisfied: cffi>=1.12 in /usr/local/lib/python3.8/dist-packages (from cryptography>=3.3.2->yfinance) (1.15.1)\n",
            "Requirement already satisfied: six>=1.9 in /usr/local/lib/python3.8/dist-packages (from html5lib>=1.1->yfinance) (1.15.0)\n",
            "Requirement already satisfied: webencodings in /usr/local/lib/python3.8/dist-packages (from html5lib>=1.1->yfinance) (0.5.1)\n",
            "Requirement already satisfied: python-dateutil>=2.7.3 in /usr/local/lib/python3.8/dist-packages (from pandas>=1.3.0->yfinance) (2.8.2)\n",
            "Requirement already satisfied: charset-normalizer<4,>=2 in /usr/local/lib/python3.8/dist-packages (from requests>=2.26->yfinance) (2.1.1)\n",
            "Requirement already satisfied: urllib3<1.27,>=1.21.1 in /usr/local/lib/python3.8/dist-packages (from requests>=2.26->yfinance) (1.24.3)\n",
            "Requirement already satisfied: certifi>=2017.4.17 in /usr/local/lib/python3.8/dist-packages (from requests>=2.26->yfinance) (2022.12.7)\n",
            "Requirement already satisfied: idna<4,>=2.5 in /usr/local/lib/python3.8/dist-packages (from requests>=2.26->yfinance) (2.10)\n",
            "Requirement already satisfied: pycparser in /usr/local/lib/python3.8/dist-packages (from cffi>=1.12->cryptography>=3.3.2->yfinance) (2.21)\n"
          ]
        }
      ],
      "source": [
        "pip install yfinance"
      ]
    },
    {
      "cell_type": "code",
      "source": [
        "pip install pmdarima"
      ],
      "metadata": {
        "id": "JD4ZGvt8bX8w",
        "outputId": "0c4e4ea4-b811-4ac9-a017-704c061491b7",
        "colab": {
          "base_uri": "https://localhost:8080/"
        }
      },
      "execution_count": 25,
      "outputs": [
        {
          "output_type": "stream",
          "name": "stdout",
          "text": [
            "Looking in indexes: https://pypi.org/simple, https://us-python.pkg.dev/colab-wheels/public/simple/\n",
            "Requirement already satisfied: pmdarima in /usr/local/lib/python3.8/dist-packages (2.0.2)\n",
            "Requirement already satisfied: statsmodels>=0.13.2 in /usr/local/lib/python3.8/dist-packages (from pmdarima) (0.13.5)\n",
            "Requirement already satisfied: urllib3 in /usr/local/lib/python3.8/dist-packages (from pmdarima) (1.24.3)\n",
            "Requirement already satisfied: numpy>=1.21.2 in /usr/local/lib/python3.8/dist-packages (from pmdarima) (1.21.6)\n",
            "Requirement already satisfied: joblib>=0.11 in /usr/local/lib/python3.8/dist-packages (from pmdarima) (1.2.0)\n",
            "Requirement already satisfied: setuptools!=50.0.0,>=38.6.0 in /usr/local/lib/python3.8/dist-packages (from pmdarima) (57.4.0)\n",
            "Requirement already satisfied: Cython!=0.29.18,!=0.29.31,>=0.29 in /usr/local/lib/python3.8/dist-packages (from pmdarima) (0.29.32)\n",
            "Requirement already satisfied: scipy>=1.3.2 in /usr/local/lib/python3.8/dist-packages (from pmdarima) (1.7.3)\n",
            "Requirement already satisfied: pandas>=0.19 in /usr/local/lib/python3.8/dist-packages (from pmdarima) (1.3.5)\n",
            "Requirement already satisfied: scikit-learn>=0.22 in /usr/local/lib/python3.8/dist-packages (from pmdarima) (1.0.2)\n",
            "Requirement already satisfied: pytz>=2017.3 in /usr/local/lib/python3.8/dist-packages (from pandas>=0.19->pmdarima) (2022.7)\n",
            "Requirement already satisfied: python-dateutil>=2.7.3 in /usr/local/lib/python3.8/dist-packages (from pandas>=0.19->pmdarima) (2.8.2)\n",
            "Requirement already satisfied: threadpoolctl>=2.0.0 in /usr/local/lib/python3.8/dist-packages (from scikit-learn>=0.22->pmdarima) (3.1.0)\n",
            "Requirement already satisfied: packaging>=21.3 in /usr/local/lib/python3.8/dist-packages (from statsmodels>=0.13.2->pmdarima) (21.3)\n",
            "Requirement already satisfied: patsy>=0.5.2 in /usr/local/lib/python3.8/dist-packages (from statsmodels>=0.13.2->pmdarima) (0.5.3)\n",
            "Requirement already satisfied: pyparsing!=3.0.5,>=2.0.2 in /usr/local/lib/python3.8/dist-packages (from packaging>=21.3->statsmodels>=0.13.2->pmdarima) (3.0.9)\n",
            "Requirement already satisfied: six in /usr/local/lib/python3.8/dist-packages (from patsy>=0.5.2->statsmodels>=0.13.2->pmdarima) (1.15.0)\n"
          ]
        }
      ]
    },
    {
      "cell_type": "code",
      "source": [
        "import yfinance as yf\n",
        "\n",
        "btc=yf.download(tickers='BTC-USD', start='2020-01-01', end='2022-11-30', interval = '1d')#bitcoin\n",
        "eth=yf.download(tickers='ETH-USD', start='2020-01-01', end='2022-11-30', interval = '1d')#etherum\n",
        "bnb=yf.download(tickers='BNB-USD', start='2020-01-01', end='2022-11-30', interval = '1d')#binance\n",
        "\n",
        "doge=yf.download(tickers='DOGE-USD', start='2020-01-01', end='2022-11-30', interval = '1d')#dogecoin\n",
        "dot=yf.download(tickers='DOT-USD', start='2020-01-01', end='2022-11-30', interval = '1d')#polkadot\n",
        "atom=yf.download(tickers='ATOM-USD', start='2020-01-01', end='2022-11-30', interval = '1d')#cosmos"
      ],
      "metadata": {
        "colab": {
          "base_uri": "https://localhost:8080/"
        },
        "id": "D1AE3iJvUQIp",
        "outputId": "eaa4c356-5e3b-4903-a6b9-5fb4f669cfe0"
      },
      "execution_count": 26,
      "outputs": [
        {
          "output_type": "stream",
          "name": "stdout",
          "text": [
            "[*********************100%***********************]  1 of 1 completed\n",
            "[*********************100%***********************]  1 of 1 completed\n",
            "[*********************100%***********************]  1 of 1 completed\n",
            "[*********************100%***********************]  1 of 1 completed\n",
            "[*********************100%***********************]  1 of 1 completed\n",
            "[*********************100%***********************]  1 of 1 completed\n"
          ]
        }
      ]
    },
    {
      "cell_type": "code",
      "source": [
        "import numpy as np,matplotlib.pyplot as plt,pandas as pd\n",
        "import math\n",
        "from statsmodels.tsa.arima.model import ARIMA\n",
        "from sklearn.metrics import mean_squared_error, mean_absolute_error"
      ],
      "metadata": {
        "id": "W2eW1JguUbyX"
      },
      "execution_count": 33,
      "outputs": []
    },
    {
      "cell_type": "code",
      "source": [
        "def clean_data(data):\n",
        "  data.reset_index(inplace=True)\n",
        "  data['Date'] = pd.to_datetime(data['Date'])\n",
        "  df = data.drop(['Open', 'High', 'Low', 'Adj Close', 'Volume'], axis=1)\n",
        "  df.rename(columns={'Date': 'ds', 'Close': 'y'}, inplace=True)\n",
        "  return df"
      ],
      "metadata": {
        "id": "m4LCJpdiVWbx"
      },
      "execution_count": 28,
      "outputs": []
    },
    {
      "cell_type": "code",
      "source": [
        "def mod_train(df,order):\n",
        " to_row=int(len(df)*0.8)\n",
        " training_data=list(df[0:to_row]['Adj Close'])\n",
        " testing_data = list(df[to_row:]['Adj Close'])\n",
        " model_predictions = []\n",
        " n_test_obser=len(testing_data)\n",
        " for i in range(n_test_obser):\n",
        "   model = ARIMA(training_data, order)\n",
        "   model_fit= model.fit()\n",
        "   output = model_fit.forecast()\n",
        "   y_pred=list(output[0])[0]\n",
        "   model_predictions.append(y_pred)\n",
        "   actual_test_value=testing_data[i]\n",
        "   training_data.append(actual_test_value)\n",
        "\n",
        " mape=np.mean(np.abs(np.array(model_predictions[:])-np.array(testing_data))/np.abs(testing_data))\n",
        " print(\"\\nMAPE: \",str(mape))"
      ],
      "metadata": {
        "id": "BuFASFYz53Fp"
      },
      "execution_count": 30,
      "outputs": []
    },
    {
      "cell_type": "code",
      "source": [
        "from pmdarima import auto_arima\n",
        "stepwise_fit = auto_arima(btc['Adj Close'], trace=True,\n",
        "suppress_warnings=True)"
      ],
      "metadata": {
        "id": "WK7wjQELb8fP",
        "outputId": "722f2e45-31d3-432c-e18d-ec5f2cc35dad",
        "colab": {
          "base_uri": "https://localhost:8080/"
        }
      },
      "execution_count": 34,
      "outputs": [
        {
          "output_type": "stream",
          "name": "stdout",
          "text": [
            "Performing stepwise search to minimize aic\n",
            " ARIMA(2,1,2)(0,0,0)[0] intercept   : AIC=inf, Time=2.59 sec\n",
            " ARIMA(0,1,0)(0,0,0)[0] intercept   : AIC=18242.986, Time=0.06 sec\n",
            " ARIMA(1,1,0)(0,0,0)[0] intercept   : AIC=18243.927, Time=0.08 sec\n",
            " ARIMA(0,1,1)(0,0,0)[0] intercept   : AIC=18243.951, Time=0.11 sec\n",
            " ARIMA(0,1,0)(0,0,0)[0]             : AIC=18241.035, Time=0.04 sec\n",
            " ARIMA(1,1,1)(0,0,0)[0] intercept   : AIC=18245.912, Time=0.14 sec\n",
            "\n",
            "Best model:  ARIMA(0,1,0)(0,0,0)[0]          \n",
            "Total fit time: 3.025 seconds\n"
          ]
        }
      ]
    },
    {
      "cell_type": "code",
      "source": [
        "mod_train(btc,(0,1,0))"
      ],
      "metadata": {
        "id": "OJMZaol3dOwH"
      },
      "execution_count": null,
      "outputs": []
    },
    {
      "cell_type": "code",
      "source": [
        "stepwise_fit = auto_arima(eth['Adj Close'], trace=True,\n",
        "suppress_warnings=True)"
      ],
      "metadata": {
        "id": "M4HSHx_AcXmr",
        "outputId": "4acb174f-06f0-4887-f8df-1919a81c7522",
        "colab": {
          "base_uri": "https://localhost:8080/"
        }
      },
      "execution_count": 36,
      "outputs": [
        {
          "output_type": "stream",
          "name": "stdout",
          "text": [
            "Performing stepwise search to minimize aic\n",
            " ARIMA(2,1,2)(0,0,0)[0] intercept   : AIC=12858.980, Time=2.49 sec\n",
            " ARIMA(0,1,0)(0,0,0)[0] intercept   : AIC=12857.661, Time=0.11 sec\n",
            " ARIMA(1,1,0)(0,0,0)[0] intercept   : AIC=12854.631, Time=0.16 sec\n",
            " ARIMA(0,1,1)(0,0,0)[0] intercept   : AIC=12854.784, Time=0.31 sec\n",
            " ARIMA(0,1,0)(0,0,0)[0]             : AIC=12855.768, Time=0.10 sec\n",
            " ARIMA(2,1,0)(0,0,0)[0] intercept   : AIC=12856.520, Time=0.31 sec\n",
            " ARIMA(1,1,1)(0,0,0)[0] intercept   : AIC=12856.579, Time=0.31 sec\n",
            " ARIMA(2,1,1)(0,0,0)[0] intercept   : AIC=12857.589, Time=1.17 sec\n",
            " ARIMA(1,1,0)(0,0,0)[0]             : AIC=12852.752, Time=0.05 sec\n",
            " ARIMA(2,1,0)(0,0,0)[0]             : AIC=12854.639, Time=0.06 sec\n",
            " ARIMA(1,1,1)(0,0,0)[0]             : AIC=12854.698, Time=0.09 sec\n",
            " ARIMA(0,1,1)(0,0,0)[0]             : AIC=12852.906, Time=0.07 sec\n",
            " ARIMA(2,1,1)(0,0,0)[0]             : AIC=12855.696, Time=0.30 sec\n",
            "\n",
            "Best model:  ARIMA(1,1,0)(0,0,0)[0]          \n",
            "Total fit time: 5.596 seconds\n"
          ]
        }
      ]
    },
    {
      "cell_type": "code",
      "source": [
        "mod_train(eth,(1,1,0))"
      ],
      "metadata": {
        "id": "FXpYOMN1dUT8"
      },
      "execution_count": null,
      "outputs": []
    },
    {
      "cell_type": "code",
      "source": [
        "stepwise_fit = auto_arima(bnb['Adj Close'], trace=True,\n",
        "suppress_warnings=True)"
      ],
      "metadata": {
        "id": "o-HI3Zl0cdIZ",
        "outputId": "4e33c998-6bf0-49bd-dd8b-6f52c1822f52",
        "colab": {
          "base_uri": "https://localhost:8080/"
        }
      },
      "execution_count": 37,
      "outputs": [
        {
          "output_type": "stream",
          "name": "stdout",
          "text": [
            "Performing stepwise search to minimize aic\n",
            " ARIMA(2,1,2)(0,0,0)[0] intercept   : AIC=8956.786, Time=2.80 sec\n",
            " ARIMA(0,1,0)(0,0,0)[0] intercept   : AIC=8988.401, Time=0.05 sec\n",
            " ARIMA(1,1,0)(0,0,0)[0] intercept   : AIC=8969.590, Time=0.10 sec\n",
            " ARIMA(0,1,1)(0,0,0)[0] intercept   : AIC=8972.726, Time=0.27 sec\n",
            " ARIMA(0,1,0)(0,0,0)[0]             : AIC=8986.673, Time=0.04 sec\n",
            " ARIMA(1,1,2)(0,0,0)[0] intercept   : AIC=8963.142, Time=0.71 sec\n",
            " ARIMA(2,1,1)(0,0,0)[0] intercept   : AIC=8965.469, Time=0.80 sec\n",
            " ARIMA(3,1,2)(0,0,0)[0] intercept   : AIC=8958.390, Time=2.25 sec\n",
            " ARIMA(2,1,3)(0,0,0)[0] intercept   : AIC=8958.485, Time=2.56 sec\n",
            " ARIMA(1,1,1)(0,0,0)[0] intercept   : AIC=8967.871, Time=0.63 sec\n",
            " ARIMA(1,1,3)(0,0,0)[0] intercept   : AIC=8963.945, Time=1.20 sec\n",
            " ARIMA(3,1,1)(0,0,0)[0] intercept   : AIC=8966.040, Time=0.47 sec\n",
            " ARIMA(3,1,3)(0,0,0)[0] intercept   : AIC=8951.924, Time=2.75 sec\n",
            " ARIMA(4,1,3)(0,0,0)[0] intercept   : AIC=8949.304, Time=3.12 sec\n",
            " ARIMA(4,1,2)(0,0,0)[0] intercept   : AIC=8954.707, Time=4.15 sec\n",
            " ARIMA(5,1,3)(0,0,0)[0] intercept   : AIC=8950.794, Time=4.22 sec\n",
            " ARIMA(4,1,4)(0,0,0)[0] intercept   : AIC=8947.303, Time=4.20 sec\n",
            " ARIMA(3,1,4)(0,0,0)[0] intercept   : AIC=8948.765, Time=4.05 sec\n",
            " ARIMA(5,1,4)(0,0,0)[0] intercept   : AIC=8952.930, Time=4.59 sec\n",
            " ARIMA(4,1,5)(0,0,0)[0] intercept   : AIC=8952.745, Time=2.42 sec\n",
            " ARIMA(3,1,5)(0,0,0)[0] intercept   : AIC=8950.668, Time=8.67 sec\n",
            " ARIMA(5,1,5)(0,0,0)[0] intercept   : AIC=inf, Time=9.65 sec\n",
            " ARIMA(4,1,4)(0,0,0)[0]             : AIC=8945.477, Time=1.88 sec\n",
            " ARIMA(3,1,4)(0,0,0)[0]             : AIC=8947.027, Time=1.53 sec\n",
            " ARIMA(4,1,3)(0,0,0)[0]             : AIC=8947.578, Time=1.83 sec\n",
            " ARIMA(5,1,4)(0,0,0)[0]             : AIC=inf, Time=5.84 sec\n",
            " ARIMA(4,1,5)(0,0,0)[0]             : AIC=8951.027, Time=1.01 sec\n",
            " ARIMA(3,1,3)(0,0,0)[0]             : AIC=8950.208, Time=1.62 sec\n",
            " ARIMA(3,1,5)(0,0,0)[0]             : AIC=8948.918, Time=3.20 sec\n",
            " ARIMA(5,1,3)(0,0,0)[0]             : AIC=8949.080, Time=1.40 sec\n",
            " ARIMA(5,1,5)(0,0,0)[0]             : AIC=inf, Time=4.44 sec\n",
            "\n",
            "Best model:  ARIMA(4,1,4)(0,0,0)[0]          \n",
            "Total fit time: 82.567 seconds\n"
          ]
        }
      ]
    },
    {
      "cell_type": "code",
      "source": [
        "mod_train(eth,(4,1,4))"
      ],
      "metadata": {
        "id": "nBFpe7EHdaZ4"
      },
      "execution_count": null,
      "outputs": []
    },
    {
      "cell_type": "code",
      "source": [
        "stepwise_fit = auto_arima(doge['Adj Close'], trace=True,\n",
        "suppress_warnings=True)"
      ],
      "metadata": {
        "id": "HUyIInULclA9",
        "outputId": "c7b99fcc-d7bb-4ec4-864e-a1122aa43aaa",
        "colab": {
          "base_uri": "https://localhost:8080/"
        }
      },
      "execution_count": 38,
      "outputs": [
        {
          "output_type": "stream",
          "name": "stdout",
          "text": [
            "Performing stepwise search to minimize aic\n",
            " ARIMA(2,1,2)(0,0,0)[0] intercept   : AIC=-5790.193, Time=2.17 sec\n",
            " ARIMA(0,1,0)(0,0,0)[0] intercept   : AIC=-5761.806, Time=0.15 sec\n",
            " ARIMA(1,1,0)(0,0,0)[0] intercept   : AIC=-5777.349, Time=0.18 sec\n",
            " ARIMA(0,1,1)(0,0,0)[0] intercept   : AIC=-5774.671, Time=0.54 sec\n",
            " ARIMA(0,1,0)(0,0,0)[0]             : AIC=-5763.769, Time=0.10 sec\n",
            " ARIMA(1,1,2)(0,0,0)[0] intercept   : AIC=-5792.319, Time=1.48 sec\n",
            " ARIMA(0,1,2)(0,0,0)[0] intercept   : AIC=-5786.588, Time=0.56 sec\n",
            " ARIMA(1,1,1)(0,0,0)[0] intercept   : AIC=-5777.346, Time=0.23 sec\n",
            " ARIMA(1,1,3)(0,0,0)[0] intercept   : AIC=-5803.994, Time=1.50 sec\n",
            " ARIMA(0,1,3)(0,0,0)[0] intercept   : AIC=-5806.158, Time=1.37 sec\n",
            " ARIMA(0,1,4)(0,0,0)[0] intercept   : AIC=-5804.163, Time=2.40 sec\n",
            " ARIMA(1,1,4)(0,0,0)[0] intercept   : AIC=-5805.568, Time=2.98 sec\n",
            " ARIMA(0,1,3)(0,0,0)[0]             : AIC=-5808.132, Time=0.56 sec\n",
            " ARIMA(0,1,2)(0,0,0)[0]             : AIC=-5788.594, Time=0.45 sec\n",
            " ARIMA(1,1,3)(0,0,0)[0]             : AIC=-5806.133, Time=1.10 sec\n",
            " ARIMA(0,1,4)(0,0,0)[0]             : AIC=-5806.136, Time=1.16 sec\n",
            " ARIMA(1,1,2)(0,0,0)[0]             : AIC=-5794.288, Time=0.66 sec\n",
            " ARIMA(1,1,4)(0,0,0)[0]             : AIC=-5809.989, Time=1.28 sec\n",
            " ARIMA(2,1,4)(0,0,0)[0]             : AIC=-5837.206, Time=1.54 sec\n",
            " ARIMA(2,1,3)(0,0,0)[0]             : AIC=-5831.360, Time=1.27 sec\n",
            " ARIMA(3,1,4)(0,0,0)[0]             : AIC=-5834.083, Time=1.70 sec\n",
            " ARIMA(2,1,5)(0,0,0)[0]             : AIC=-5860.567, Time=1.83 sec\n",
            " ARIMA(1,1,5)(0,0,0)[0]             : AIC=-5858.608, Time=0.82 sec\n",
            " ARIMA(3,1,5)(0,0,0)[0]             : AIC=-5858.245, Time=2.13 sec\n",
            " ARIMA(2,1,5)(0,0,0)[0] intercept   : AIC=-5857.381, Time=4.10 sec\n",
            "\n",
            "Best model:  ARIMA(2,1,5)(0,0,0)[0]          \n",
            "Total fit time: 32.295 seconds\n"
          ]
        }
      ]
    },
    {
      "cell_type": "code",
      "source": [
        "mod_train(eth,(2,1,5))"
      ],
      "metadata": {
        "id": "BIUdN6NNdgcl"
      },
      "execution_count": null,
      "outputs": []
    },
    {
      "cell_type": "code",
      "source": [
        "stepwise_fit = auto_arima(atom['Adj Close'], trace=True,\n",
        "suppress_warnings=True)"
      ],
      "metadata": {
        "id": "8-ErubWEctDF",
        "outputId": "03a0164d-a7df-42c4-d284-c9582f5a4f7e",
        "colab": {
          "base_uri": "https://localhost:8080/"
        }
      },
      "execution_count": 39,
      "outputs": [
        {
          "output_type": "stream",
          "name": "stdout",
          "text": [
            "Performing stepwise search to minimize aic\n",
            " ARIMA(2,1,2)(0,0,0)[0] intercept   : AIC=3601.655, Time=1.33 sec\n",
            " ARIMA(0,1,0)(0,0,0)[0] intercept   : AIC=3628.760, Time=0.05 sec\n",
            " ARIMA(1,1,0)(0,0,0)[0] intercept   : AIC=3618.468, Time=0.12 sec\n",
            " ARIMA(0,1,1)(0,0,0)[0] intercept   : AIC=3614.042, Time=0.15 sec\n",
            " ARIMA(0,1,0)(0,0,0)[0]             : AIC=3626.778, Time=0.05 sec\n",
            " ARIMA(1,1,2)(0,0,0)[0] intercept   : AIC=3602.635, Time=0.50 sec\n",
            " ARIMA(2,1,1)(0,0,0)[0] intercept   : AIC=3600.804, Time=0.28 sec\n",
            " ARIMA(1,1,1)(0,0,0)[0] intercept   : AIC=3607.231, Time=0.41 sec\n",
            " ARIMA(2,1,0)(0,0,0)[0] intercept   : AIC=3598.805, Time=0.19 sec\n",
            " ARIMA(3,1,0)(0,0,0)[0] intercept   : AIC=3600.803, Time=0.26 sec\n",
            " ARIMA(3,1,1)(0,0,0)[0] intercept   : AIC=3602.804, Time=0.32 sec\n",
            " ARIMA(2,1,0)(0,0,0)[0]             : AIC=3596.834, Time=0.08 sec\n",
            " ARIMA(1,1,0)(0,0,0)[0]             : AIC=3616.490, Time=0.07 sec\n",
            " ARIMA(3,1,0)(0,0,0)[0]             : AIC=3598.833, Time=0.11 sec\n",
            " ARIMA(2,1,1)(0,0,0)[0]             : AIC=3598.833, Time=0.13 sec\n",
            " ARIMA(1,1,1)(0,0,0)[0]             : AIC=3605.263, Time=0.17 sec\n",
            " ARIMA(3,1,1)(0,0,0)[0]             : AIC=3600.833, Time=0.16 sec\n",
            "\n",
            "Best model:  ARIMA(2,1,0)(0,0,0)[0]          \n",
            "Total fit time: 4.410 seconds\n"
          ]
        }
      ]
    },
    {
      "cell_type": "code",
      "source": [
        "mod_train(eth,(2,1,0))"
      ],
      "metadata": {
        "id": "ch5TV4PwdnJO"
      },
      "execution_count": null,
      "outputs": []
    },
    {
      "cell_type": "code",
      "source": [
        "stepwise_fit = auto_arima(dot['Adj Close'], trace=True,\n",
        "suppress_warnings=True)"
      ],
      "metadata": {
        "id": "BuU4f8Y7cv30",
        "outputId": "dad81aaa-f421-44ac-ebcb-bf5b8759e3be",
        "colab": {
          "base_uri": "https://localhost:8080/"
        }
      },
      "execution_count": 40,
      "outputs": [
        {
          "output_type": "stream",
          "name": "stdout",
          "text": [
            "Performing stepwise search to minimize aic\n",
            " ARIMA(2,1,2)(0,0,0)[0] intercept   : AIC=3041.249, Time=1.04 sec\n",
            " ARIMA(0,1,0)(0,0,0)[0] intercept   : AIC=3042.617, Time=0.05 sec\n",
            " ARIMA(1,1,0)(0,0,0)[0] intercept   : AIC=3040.983, Time=0.09 sec\n",
            " ARIMA(0,1,1)(0,0,0)[0] intercept   : AIC=3041.180, Time=0.16 sec\n",
            " ARIMA(0,1,0)(0,0,0)[0]             : AIC=3040.620, Time=0.04 sec\n",
            " ARIMA(1,1,1)(0,0,0)[0] intercept   : AIC=3037.426, Time=0.41 sec\n",
            " ARIMA(2,1,1)(0,0,0)[0] intercept   : AIC=3044.345, Time=0.52 sec\n",
            " ARIMA(1,1,2)(0,0,0)[0] intercept   : AIC=3044.251, Time=0.78 sec\n",
            " ARIMA(0,1,2)(0,0,0)[0] intercept   : AIC=3042.443, Time=0.19 sec\n",
            " ARIMA(2,1,0)(0,0,0)[0] intercept   : AIC=3042.410, Time=0.16 sec\n",
            " ARIMA(1,1,1)(0,0,0)[0]             : AIC=3035.430, Time=0.16 sec\n",
            " ARIMA(0,1,1)(0,0,0)[0]             : AIC=3039.183, Time=0.07 sec\n",
            " ARIMA(1,1,0)(0,0,0)[0]             : AIC=3038.987, Time=0.06 sec\n",
            " ARIMA(2,1,1)(0,0,0)[0]             : AIC=3042.348, Time=0.48 sec\n",
            " ARIMA(1,1,2)(0,0,0)[0]             : AIC=3042.254, Time=0.37 sec\n",
            " ARIMA(0,1,2)(0,0,0)[0]             : AIC=3040.447, Time=0.07 sec\n",
            " ARIMA(2,1,0)(0,0,0)[0]             : AIC=3040.413, Time=0.09 sec\n",
            " ARIMA(2,1,2)(0,0,0)[0]             : AIC=3039.252, Time=0.46 sec\n",
            "\n",
            "Best model:  ARIMA(1,1,1)(0,0,0)[0]          \n",
            "Total fit time: 5.239 seconds\n"
          ]
        }
      ]
    },
    {
      "cell_type": "code",
      "source": [
        "mod_train(btc,(1,1,1))"
      ],
      "metadata": {
        "id": "uJ7CYH0hdJaF"
      },
      "execution_count": null,
      "outputs": []
    }
  ]
}