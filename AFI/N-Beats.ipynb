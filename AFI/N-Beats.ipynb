{
 "cells": [
  {
   "cell_type": "code",
   "execution_count": 1,
   "id": "450eff67",
   "metadata": {},
   "outputs": [
    {
     "data": {
      "text/html": [
       "<div>\n",
       "<style scoped>\n",
       "    .dataframe tbody tr th:only-of-type {\n",
       "        vertical-align: middle;\n",
       "    }\n",
       "\n",
       "    .dataframe tbody tr th {\n",
       "        vertical-align: top;\n",
       "    }\n",
       "\n",
       "    .dataframe thead th {\n",
       "        text-align: right;\n",
       "    }\n",
       "</style>\n",
       "<table border=\"1\" class=\"dataframe\">\n",
       "  <thead>\n",
       "    <tr style=\"text-align: right;\">\n",
       "      <th></th>\n",
       "      <th>Open</th>\n",
       "      <th>High</th>\n",
       "      <th>Low</th>\n",
       "      <th>Close</th>\n",
       "      <th>Adj Close</th>\n",
       "      <th>Volume</th>\n",
       "    </tr>\n",
       "    <tr>\n",
       "      <th>Date</th>\n",
       "      <th></th>\n",
       "      <th></th>\n",
       "      <th></th>\n",
       "      <th></th>\n",
       "      <th></th>\n",
       "      <th></th>\n",
       "    </tr>\n",
       "  </thead>\n",
       "  <tbody>\n",
       "    <tr>\n",
       "      <th>2017-11-05</th>\n",
       "      <td>7404.520020</td>\n",
       "      <td>7617.479980</td>\n",
       "      <td>7333.189941</td>\n",
       "      <td>7407.410156</td>\n",
       "      <td>7407.410156</td>\n",
       "      <td>2380410112</td>\n",
       "    </tr>\n",
       "    <tr>\n",
       "      <th>2017-11-06</th>\n",
       "      <td>7403.220215</td>\n",
       "      <td>7445.770020</td>\n",
       "      <td>7007.310059</td>\n",
       "      <td>7022.759766</td>\n",
       "      <td>7022.759766</td>\n",
       "      <td>3111899904</td>\n",
       "    </tr>\n",
       "    <tr>\n",
       "      <th>2017-11-07</th>\n",
       "      <td>7023.100098</td>\n",
       "      <td>7253.319824</td>\n",
       "      <td>7023.100098</td>\n",
       "      <td>7144.379883</td>\n",
       "      <td>7144.379883</td>\n",
       "      <td>2326340096</td>\n",
       "    </tr>\n",
       "    <tr>\n",
       "      <th>2017-11-08</th>\n",
       "      <td>7141.379883</td>\n",
       "      <td>7776.419922</td>\n",
       "      <td>7114.020020</td>\n",
       "      <td>7459.689941</td>\n",
       "      <td>7459.689941</td>\n",
       "      <td>4602200064</td>\n",
       "    </tr>\n",
       "    <tr>\n",
       "      <th>2017-11-09</th>\n",
       "      <td>7446.830078</td>\n",
       "      <td>7446.830078</td>\n",
       "      <td>7101.520020</td>\n",
       "      <td>7143.580078</td>\n",
       "      <td>7143.580078</td>\n",
       "      <td>3226249984</td>\n",
       "    </tr>\n",
       "  </tbody>\n",
       "</table>\n",
       "</div>"
      ],
      "text/plain": [
       "                   Open         High          Low        Close    Adj Close  \\\n",
       "Date                                                                          \n",
       "2017-11-05  7404.520020  7617.479980  7333.189941  7407.410156  7407.410156   \n",
       "2017-11-06  7403.220215  7445.770020  7007.310059  7022.759766  7022.759766   \n",
       "2017-11-07  7023.100098  7253.319824  7023.100098  7144.379883  7144.379883   \n",
       "2017-11-08  7141.379883  7776.419922  7114.020020  7459.689941  7459.689941   \n",
       "2017-11-09  7446.830078  7446.830078  7101.520020  7143.580078  7143.580078   \n",
       "\n",
       "                Volume  \n",
       "Date                    \n",
       "2017-11-05  2380410112  \n",
       "2017-11-06  3111899904  \n",
       "2017-11-07  2326340096  \n",
       "2017-11-08  4602200064  \n",
       "2017-11-09  3226249984  "
      ]
     },
     "execution_count": 1,
     "metadata": {},
     "output_type": "execute_result"
    }
   ],
   "source": [
    "\n",
    "import pandas as pd\n",
    "df = pd.read_csv(\"BTC-USD.csv\", \n",
    "                 parse_dates=[\"Date\"], \n",
    "                 index_col=[\"Date\"])\n",
    "df.head()\n"
   ]
  },
  {
   "cell_type": "code",
   "execution_count": 2,
   "id": "6df24425",
   "metadata": {},
   "outputs": [
    {
     "data": {
      "text/html": [
       "<div>\n",
       "<style scoped>\n",
       "    .dataframe tbody tr th:only-of-type {\n",
       "        vertical-align: middle;\n",
       "    }\n",
       "\n",
       "    .dataframe tbody tr th {\n",
       "        vertical-align: top;\n",
       "    }\n",
       "\n",
       "    .dataframe thead th {\n",
       "        text-align: right;\n",
       "    }\n",
       "</style>\n",
       "<table border=\"1\" class=\"dataframe\">\n",
       "  <thead>\n",
       "    <tr style=\"text-align: right;\">\n",
       "      <th></th>\n",
       "      <th>Price</th>\n",
       "    </tr>\n",
       "    <tr>\n",
       "      <th>Date</th>\n",
       "      <th></th>\n",
       "    </tr>\n",
       "  </thead>\n",
       "  <tbody>\n",
       "    <tr>\n",
       "      <th>2017-11-05</th>\n",
       "      <td>7407.410156</td>\n",
       "    </tr>\n",
       "    <tr>\n",
       "      <th>2017-11-06</th>\n",
       "      <td>7022.759766</td>\n",
       "    </tr>\n",
       "    <tr>\n",
       "      <th>2017-11-07</th>\n",
       "      <td>7144.379883</td>\n",
       "    </tr>\n",
       "    <tr>\n",
       "      <th>2017-11-08</th>\n",
       "      <td>7459.689941</td>\n",
       "    </tr>\n",
       "    <tr>\n",
       "      <th>2017-11-09</th>\n",
       "      <td>7143.580078</td>\n",
       "    </tr>\n",
       "  </tbody>\n",
       "</table>\n",
       "</div>"
      ],
      "text/plain": [
       "                  Price\n",
       "Date                   \n",
       "2017-11-05  7407.410156\n",
       "2017-11-06  7022.759766\n",
       "2017-11-07  7144.379883\n",
       "2017-11-08  7459.689941\n",
       "2017-11-09  7143.580078"
      ]
     },
     "execution_count": 2,
     "metadata": {},
     "output_type": "execute_result"
    }
   ],
   "source": [
    "bitcoin_prices = pd.DataFrame(df[\"Close\"]).rename(columns={\"Close\": \"Price\"})\n",
    "bitcoin_prices.head()"
   ]
  },
  {
   "cell_type": "code",
   "execution_count": 5,
   "id": "da0d8054",
   "metadata": {},
   "outputs": [
    {
     "data": {
      "text/plain": [
       "([datetime.datetime(2017, 11, 5, 0, 0),\n",
       "  datetime.datetime(2017, 11, 6, 0, 0),\n",
       "  datetime.datetime(2017, 11, 7, 0, 0),\n",
       "  datetime.datetime(2017, 11, 8, 0, 0),\n",
       "  datetime.datetime(2017, 11, 9, 0, 0),\n",
       "  datetime.datetime(2017, 11, 10, 0, 0),\n",
       "  datetime.datetime(2017, 11, 11, 0, 0),\n",
       "  datetime.datetime(2017, 11, 12, 0, 0),\n",
       "  datetime.datetime(2017, 11, 13, 0, 0),\n",
       "  datetime.datetime(2017, 11, 14, 0, 0)],\n",
       " [7617.47998,\n",
       "  7445.77002,\n",
       "  7253.319824,\n",
       "  7776.419922,\n",
       "  7446.830078,\n",
       "  7312.0,\n",
       "  6873.149902,\n",
       "  6625.049805,\n",
       "  6811.189941,\n",
       "  6764.97998])"
      ]
     },
     "execution_count": 5,
     "metadata": {},
     "output_type": "execute_result"
    }
   ],
   "source": [
    "# Importing and formatting historical Bitcoin data with Python\n",
    "import csv\n",
    "from datetime import datetime\n",
    "\n",
    "timesteps = []\n",
    "btc_price = []\n",
    "with open(\"BTC-USD.csv\", \"r\") as f:\n",
    "  csv_reader = csv.reader(f, delimiter=\",\") # read in the target CSV\n",
    "  next(csv_reader) # skip first line (this gets rid of the column titles)\n",
    "  for line in csv_reader:\n",
    "    timesteps.append(datetime.strptime(line[0], \"%Y-%m-%d\")) # get the dates as dates (not strings), strptime = string parse time\n",
    "    btc_price.append(float(line[2])) # get the closing price as float\n",
    "\n",
    "# View first 10 of each\n",
    "timesteps[:10], btc_price[:10]"
   ]
  },
  {
   "cell_type": "code",
   "execution_count": 7,
   "id": "c85e1f7a",
   "metadata": {},
   "outputs": [
    {
     "data": {
      "text/plain": [
       "(1461, 366, 1461, 366)"
      ]
     },
     "execution_count": 7,
     "metadata": {},
     "output_type": "execute_result"
    }
   ],
   "source": [
    "timesteps = bitcoin_prices.index.to_numpy()\n",
    "prices = bitcoin_prices[\"Price\"].to_numpy()\n",
    "\n",
    "timesteps[:10], prices[:10]\n",
    "split_size = int(0.8 * len(prices))\n",
    "X_train, y_train = timesteps[:split_size], prices[:split_size]\n",
    "X_test, y_test = timesteps[split_size:], prices[split_size:]\n",
    "len(X_train), len(X_test), len(y_train), len(y_test)"
   ]
  },
  {
   "cell_type": "code",
   "execution_count": 9,
   "id": "a84c269b",
   "metadata": {},
   "outputs": [
    {
     "data": {
      "image/png": "[encoded data removed]",
      "text/plain": [
       "<Figure size 1000x700 with 1 Axes>"
      ]
     },
     "metadata": {},
     "output_type": "display_data"
    }
   ],
   "source": [
    "import matplotlib.pyplot as plt\n",
    "plt.figure(figsize=(10, 7))\n",
    "plt.scatter(X_train, y_train, s=5, label=\"Train data\")\n",
    "plt.scatter(X_test, y_test, s=5, label=\"Test data\")\n",
    "plt.xlabel(\"Date\")\n",
    "plt.ylabel(\"BTC Price\")\n",
    "plt.legend(fontsize=14)\n",
    "plt.show();"
   ]
  },
  {
   "cell_type": "code",
   "execution_count": 11,
   "id": "0567584a",
   "metadata": {},
   "outputs": [],
   "source": [
    "import tensorflow as tf\n",
    "# Create NBeatsBlock custom layer \n",
    "class NBeatsBlock(tf.keras.layers.Layer):\n",
    "  def __init__(self, # the constructor takes all the hyperparameters for the layer\n",
    "               input_size: int,\n",
    "               theta_size: int,\n",
    "               horizon: int,\n",
    "               n_neurons: int,\n",
    "               n_layers: int,\n",
    "               **kwargs): # the **kwargs argument takes care of all of the arguments for the parent class (input_shape, trainable, name)\n",
    "    super().__init__(**kwargs)\n",
    "    self.input_size = input_size\n",
    "    self.theta_size = theta_size\n",
    "    self.horizon = horizon\n",
    "    self.n_neurons = n_neurons\n",
    "    self.n_layers = n_layers\n",
    "\n",
    "    # Block contains stack of 4 fully connected layers each has ReLU activation\n",
    "    self.hidden = [tf.keras.layers.Dense(n_neurons, activation=\"relu\") for _ in range(n_layers)]\n",
    "    # Output of block is a theta layer with linear activation\n",
    "    self.theta_layer = tf.keras.layers.Dense(theta_size, activation=\"linear\", name=\"theta\")\n",
    "\n",
    "  def call(self, inputs): # the call method is what runs when the layer is called \n",
    "    x = inputs \n",
    "    for layer in self.hidden: # pass inputs through each hidden layer \n",
    "      x = layer(x)\n",
    "    theta = self.theta_layer(x) \n",
    "    # Output the backcast and forecast from theta\n",
    "    backcast, forecast = theta[:, :self.input_size], theta[:, -self.horizon:]\n",
    "    return backcast, forecast"
   ]
  },
  {
   "cell_type": "code",
   "execution_count": 13,
   "id": "f63eaad6",
   "metadata": {},
   "outputs": [],
   "source": [
    "HORIZON = 1 # predict 1 step at a time\n",
    "WINDOW_SIZE = 7 # use a week worth of timesteps to predict the horizon"
   ]
  },
  {
   "cell_type": "code",
   "execution_count": 14,
   "id": "8f09c407",
   "metadata": {},
   "outputs": [],
   "source": [
    "# Set up dummy NBeatsBlock layer to represent inputs and outputs\n",
    "dummy_nbeats_block_layer = NBeatsBlock(input_size=WINDOW_SIZE, \n",
    "                                       theta_size=WINDOW_SIZE+HORIZON, # backcast + forecast \n",
    "                                       horizon=HORIZON,\n",
    "                                       n_neurons=128,\n",
    "                                       n_layers=4)"
   ]
  },
  {
   "cell_type": "code",
   "execution_count": 16,
   "id": "f1ce82b0",
   "metadata": {},
   "outputs": [
    {
     "data": {
      "text/plain": [
       "<tf.Tensor: shape=(1, 7), dtype=int32, numpy=array([[1, 2, 3, 4, 5, 6, 7]])>"
      ]
     },
     "execution_count": 16,
     "metadata": {},
     "output_type": "execute_result"
    }
   ],
   "source": [
    "dummy_inputs = tf.expand_dims(tf.range(WINDOW_SIZE) + 1, axis=0) \n",
    "dummy_inputs"
   ]
  },
  {
   "cell_type": "code",
   "execution_count": 17,
   "id": "84bf7295",
   "metadata": {},
   "outputs": [
    {
     "name": "stdout",
     "output_type": "stream",
     "text": [
      "Backcast: [ 0.05054442 -0.33416063  0.2226625   0.17537022  0.09096466  0.7814104\n",
      "  0.1680995 ]\n",
      "Forecast: -0.0796271488070488\n"
     ]
    }
   ],
   "source": [
    "backcast, forecast = dummy_nbeats_block_layer(dummy_inputs)\n",
    "print(f\"Backcast: {tf.squeeze(backcast.numpy())}\")\n",
    "print(f\"Forecast: {tf.squeeze(forecast.numpy())}\")"
   ]
  },
  {
   "cell_type": "code",
   "execution_count": 18,
   "id": "000220c1",
   "metadata": {},
   "outputs": [
    {
     "data": {
      "text/html": [
       "<div>\n",
       "<style scoped>\n",
       "    .dataframe tbody tr th:only-of-type {\n",
       "        vertical-align: middle;\n",
       "    }\n",
       "\n",
       "    .dataframe tbody tr th {\n",
       "        vertical-align: top;\n",
       "    }\n",
       "\n",
       "    .dataframe thead th {\n",
       "        text-align: right;\n",
       "    }\n",
       "</style>\n",
       "<table border=\"1\" class=\"dataframe\">\n",
       "  <thead>\n",
       "    <tr style=\"text-align: right;\">\n",
       "      <th></th>\n",
       "      <th>Price</th>\n",
       "      <th>Price+1</th>\n",
       "      <th>Price+2</th>\n",
       "      <th>Price+3</th>\n",
       "      <th>Price+4</th>\n",
       "      <th>Price+5</th>\n",
       "      <th>Price+6</th>\n",
       "      <th>Price+7</th>\n",
       "    </tr>\n",
       "    <tr>\n",
       "      <th>Date</th>\n",
       "      <th></th>\n",
       "      <th></th>\n",
       "      <th></th>\n",
       "      <th></th>\n",
       "      <th></th>\n",
       "      <th></th>\n",
       "      <th></th>\n",
       "      <th></th>\n",
       "    </tr>\n",
       "  </thead>\n",
       "  <tbody>\n",
       "    <tr>\n",
       "      <th>2017-11-12</th>\n",
       "      <td>5950.069824</td>\n",
       "      <td>6357.600098</td>\n",
       "      <td>6618.140137</td>\n",
       "      <td>7143.580078</td>\n",
       "      <td>7459.689941</td>\n",
       "      <td>7144.379883</td>\n",
       "      <td>7022.759766</td>\n",
       "      <td>7407.410156</td>\n",
       "    </tr>\n",
       "    <tr>\n",
       "      <th>2017-11-13</th>\n",
       "      <td>6559.490234</td>\n",
       "      <td>5950.069824</td>\n",
       "      <td>6357.600098</td>\n",
       "      <td>6618.140137</td>\n",
       "      <td>7143.580078</td>\n",
       "      <td>7459.689941</td>\n",
       "      <td>7144.379883</td>\n",
       "      <td>7022.759766</td>\n",
       "    </tr>\n",
       "    <tr>\n",
       "      <th>2017-11-14</th>\n",
       "      <td>6635.750000</td>\n",
       "      <td>6559.490234</td>\n",
       "      <td>5950.069824</td>\n",
       "      <td>6357.600098</td>\n",
       "      <td>6618.140137</td>\n",
       "      <td>7143.580078</td>\n",
       "      <td>7459.689941</td>\n",
       "      <td>7144.379883</td>\n",
       "    </tr>\n",
       "    <tr>\n",
       "      <th>2017-11-15</th>\n",
       "      <td>7315.540039</td>\n",
       "      <td>6635.750000</td>\n",
       "      <td>6559.490234</td>\n",
       "      <td>5950.069824</td>\n",
       "      <td>6357.600098</td>\n",
       "      <td>6618.140137</td>\n",
       "      <td>7143.580078</td>\n",
       "      <td>7459.689941</td>\n",
       "    </tr>\n",
       "    <tr>\n",
       "      <th>2017-11-16</th>\n",
       "      <td>7871.689941</td>\n",
       "      <td>7315.540039</td>\n",
       "      <td>6635.750000</td>\n",
       "      <td>6559.490234</td>\n",
       "      <td>5950.069824</td>\n",
       "      <td>6357.600098</td>\n",
       "      <td>6618.140137</td>\n",
       "      <td>7143.580078</td>\n",
       "    </tr>\n",
       "  </tbody>\n",
       "</table>\n",
       "</div>"
      ],
      "text/plain": [
       "                  Price      Price+1      Price+2      Price+3      Price+4  \\\n",
       "Date                                                                          \n",
       "2017-11-12  5950.069824  6357.600098  6618.140137  7143.580078  7459.689941   \n",
       "2017-11-13  6559.490234  5950.069824  6357.600098  6618.140137  7143.580078   \n",
       "2017-11-14  6635.750000  6559.490234  5950.069824  6357.600098  6618.140137   \n",
       "2017-11-15  7315.540039  6635.750000  6559.490234  5950.069824  6357.600098   \n",
       "2017-11-16  7871.689941  7315.540039  6635.750000  6559.490234  5950.069824   \n",
       "\n",
       "                Price+5      Price+6      Price+7  \n",
       "Date                                               \n",
       "2017-11-12  7144.379883  7022.759766  7407.410156  \n",
       "2017-11-13  7459.689941  7144.379883  7022.759766  \n",
       "2017-11-14  7143.580078  7459.689941  7144.379883  \n",
       "2017-11-15  6618.140137  7143.580078  7459.689941  \n",
       "2017-11-16  6357.600098  6618.140137  7143.580078  "
      ]
     },
     "execution_count": 18,
     "metadata": {},
     "output_type": "execute_result"
    }
   ],
   "source": [
    "bitcoin_prices_nbeats = bitcoin_prices.copy()\n",
    "for i in range(WINDOW_SIZE):\n",
    "  bitcoin_prices_nbeats[f\"Price+{i+1}\"] = bitcoin_prices_nbeats[\"Price\"].shift(periods=i+1)\n",
    "bitcoin_prices_nbeats.dropna().head()"
   ]
  },
  {
   "cell_type": "code",
   "execution_count": 19,
   "id": "6335df64",
   "metadata": {},
   "outputs": [
    {
     "data": {
      "text/plain": [
       "(1456, 1456, 364, 364)"
      ]
     },
     "execution_count": 19,
     "metadata": {},
     "output_type": "execute_result"
    }
   ],
   "source": [
    "X = bitcoin_prices_nbeats.dropna().drop(\"Price\", axis=1)\n",
    "y = bitcoin_prices_nbeats.dropna()[\"Price\"]\n",
    "\n",
    "split_size = int(len(X) * 0.8)\n",
    "X_train, y_train = X[:split_size], y[:split_size]\n",
    "X_test, y_test = X[split_size:], y[split_size:]\n",
    "len(X_train), len(y_train), len(X_test), len(y_test)"
   ]
  },
  {
   "cell_type": "code",
   "execution_count": 20,
   "id": "52adcdb8",
   "metadata": {},
   "outputs": [
    {
     "data": {
      "text/plain": [
       "(<PrefetchDataset element_spec=(TensorSpec(shape=(None, 7), dtype=tf.float64, name=None), TensorSpec(shape=(None,), dtype=tf.float64, name=None))>,\n",
       " <PrefetchDataset element_spec=(TensorSpec(shape=(None, 7), dtype=tf.float64, name=None), TensorSpec(shape=(None,), dtype=tf.float64, name=None))>)"
      ]
     },
     "execution_count": 20,
     "metadata": {},
     "output_type": "execute_result"
    }
   ],
   "source": [
    "# 1. Turn train and test arrays into tensor Datasets\n",
    "train_features_dataset = tf.data.Dataset.from_tensor_slices(X_train)\n",
    "train_labels_dataset = tf.data.Dataset.from_tensor_slices(y_train)\n",
    "\n",
    "test_features_dataset = tf.data.Dataset.from_tensor_slices(X_test)\n",
    "test_labels_dataset = tf.data.Dataset.from_tensor_slices(y_test)\n",
    "\n",
    "# 2. Combine features & labels\n",
    "train_dataset = tf.data.Dataset.zip((train_features_dataset, train_labels_dataset))\n",
    "test_dataset = tf.data.Dataset.zip((test_features_dataset, test_labels_dataset))\n",
    "\n",
    "# 3. Batch and prefetch for optimal performance\n",
    "BATCH_SIZE = 1024 # taken from Appendix D in N-BEATS paper\n",
    "train_dataset = train_dataset.batch(BATCH_SIZE).prefetch(tf.data.AUTOTUNE)\n",
    "test_dataset = test_dataset.batch(BATCH_SIZE).prefetch(tf.data.AUTOTUNE)\n",
    "\n",
    "train_dataset, test_dataset\n"
   ]
  },
  {
   "cell_type": "code",
   "execution_count": 22,
   "id": "7fd13e8c",
   "metadata": {},
   "outputs": [
    {
     "data": {
      "text/plain": [
       "(7, 8)"
      ]
     },
     "execution_count": 22,
     "metadata": {},
     "output_type": "execute_result"
    }
   ],
   "source": [
    "#N-beats hyperparams setting\n",
    "N_EPOCHS = 5000 \n",
    "N_NEURONS = 512 \n",
    "N_LAYERS = 4\n",
    "N_STACKS = 30\n",
    "\n",
    "INPUT_SIZE = WINDOW_SIZE * HORIZON \n",
    "THETA_SIZE = INPUT_SIZE + HORIZON\n",
    "\n",
    "INPUT_SIZE, THETA_SIZE"
   ]
  },
  {
   "cell_type": "code",
   "execution_count": 25,
   "id": "c5567d71",
   "metadata": {},
   "outputs": [
    {
     "name": "stdout",
     "output_type": "stream",
     "text": [
      "Input tensors: [10 11 12 13 14 15 16 17 18 19] & [0 1 2 3 4 5 6 7 8 9]\n",
      "Subtracted: [10 10 10 10 10 10 10 10 10 10]\n",
      "Added: [10 12 14 16 18 20 22 24 26 28]\n"
     ]
    }
   ],
   "source": [
    "#Setting up double residual stacking system\n",
    "from tensorflow.keras import layers\n",
    "tensor_1 = tf.range(10) + 10\n",
    "tensor_2 = tf.range(10)\n",
    "\n",
    "subtracted = layers.subtract([tensor_1, tensor_2])\n",
    "\n",
    "added = layers.add([tensor_1, tensor_2])\n",
    "\n",
    "print(f\"Input tensors: {tensor_1.numpy()} & {tensor_2.numpy()}\")\n",
    "print(f\"Subtracted: {subtracted.numpy()}\")\n",
    "print(f\"Added: {added.numpy()}\")"
   ]
  },
  {
   "cell_type": "code",
   "execution_count": 26,
   "id": "a7a685e3",
   "metadata": {},
   "outputs": [
    {
     "name": "stdout",
     "output_type": "stream",
     "text": [
      "\n",
      "Epoch 137: ReduceLROnPlateau reducing learning rate to 0.00010000000474974513.\n",
      "\n",
      "Epoch 237: ReduceLROnPlateau reducing learning rate to 1.0000000474974514e-05.\n",
      "CPU times: total: 1h 5min 50s\n",
      "Wall time: 10min 1s\n"
     ]
    },
    {
     "data": {
      "text/plain": [
       "<keras.callbacks.History at 0x1e6c72302e0>"
      ]
     },
     "execution_count": 26,
     "metadata": {},
     "output_type": "execute_result"
    }
   ],
   "source": [
    "%%time\n",
    "\n",
    "tf.random.set_seed(42)\n",
    "\n",
    "\n",
    "nbeats_block_layer = NBeatsBlock(input_size=INPUT_SIZE,\n",
    "                                 theta_size=THETA_SIZE,\n",
    "                                 horizon=HORIZON,\n",
    "                                 n_neurons=N_NEURONS,\n",
    "                                 n_layers=N_LAYERS,\n",
    "                                 name=\"InitialBlock\")\n",
    "\n",
    "\n",
    "stack_input = layers.Input(shape=(INPUT_SIZE), name=\"stack_input\")\n",
    "\n",
    "\n",
    "backcast, forecast = nbeats_block_layer(stack_input)\n",
    " \n",
    "residuals = layers.subtract([stack_input, backcast], name=f\"subtract_00\") \n",
    "\n",
    "\n",
    "for i, _ in enumerate(range(N_STACKS-1)): \n",
    "\n",
    " \n",
    "  backcast, block_forecast = NBeatsBlock(\n",
    "      input_size=INPUT_SIZE,\n",
    "      theta_size=THETA_SIZE,\n",
    "      horizon=HORIZON,\n",
    "      n_neurons=N_NEURONS,\n",
    "      n_layers=N_LAYERS,\n",
    "      name=f\"NBeatsBlock_{i}\"\n",
    "  )(residuals) # pass it in residuals (the backcast)\n",
    "\n",
    "\n",
    "  residuals = layers.subtract([residuals, backcast], name=f\"subtract_{i}\") \n",
    "  forecast = layers.add([forecast, block_forecast], name=f\"add_{i}\")\n",
    "\n",
    "\n",
    "model_N = tf.keras.Model(inputs=stack_input, \n",
    "                         outputs=forecast, \n",
    "                         name=\"model_7_N-BEATS\")\n",
    "\n",
    "\n",
    "model_N.compile(loss=\"mae\",\n",
    "                optimizer=tf.keras.optimizers.Adam(0.001),\n",
    "                metrics=[\"mae\", \"mse\"])\n",
    "\n",
    "\n",
    "model_N.fit(train_dataset,\n",
    "            epochs=N_EPOCHS,\n",
    "            validation_data=test_dataset,\n",
    "            verbose=0, # prevent large amounts of training outputs\n",
    "            # callbacks=[create_model_checkpoint(model_name=stack_model.name)] # saving model every epoch consumes far too much time\n",
    "            callbacks=[tf.keras.callbacks.EarlyStopping(monitor=\"val_loss\", patience=200, restore_best_weights=True),\n",
    "                      tf.keras.callbacks.ReduceLROnPlateau(monitor=\"val_loss\", patience=100, verbose=1)])"
   ]
  },
  {
   "cell_type": "code",
   "execution_count": 37,
   "id": "8a571e08",
   "metadata": {},
   "outputs": [],
   "source": [
    "def evaluate_preds(y_true, y_pred):\n",
    "\n",
    "  y_true = tf.cast(y_true, dtype=tf.float32)\n",
    "  y_pred = tf.cast(y_pred, dtype=tf.float32)\n",
    "\n",
    "  # Calculate various metrics\n",
    "  mae = tf.keras.metrics.mean_absolute_error(y_true, y_pred)\n",
    "  mse = tf.keras.metrics.mean_squared_error(y_true, y_pred) # puts and emphasis on outliers (all errors get squared)\n",
    "  rmse = tf.sqrt(mse)\n",
    "  mape = tf.keras.metrics.mean_absolute_percentage_error(y_true, y_pred)\n",
    "\n",
    "  \n",
    "  return {\"mae\": mae.numpy(),\n",
    "          \"mse\": mse.numpy(),\n",
    "          \"rmse\": rmse.numpy(),\n",
    "          \"mape\": mape.numpy(),\n",
    "          }"
   ]
  },
  {
   "cell_type": "code",
   "execution_count": 38,
   "id": "9f9e2d66",
   "metadata": {},
   "outputs": [],
   "source": [
    "def make_preds(model, input_data):\n",
    "  forecast = model.predict(input_data)\n",
    "  return tf.squeeze(forecast) # return 1D array of predictions"
   ]
  },
  {
   "cell_type": "code",
   "execution_count": 39,
   "id": "3c4b477b",
   "metadata": {},
   "outputs": [
    {
     "name": "stdout",
     "output_type": "stream",
     "text": [
      "1/1 [==============================] - 0s 305ms/step - loss: 853.6624 - mae: 853.6624 - mse: 1566169.0000\n"
     ]
    },
    {
     "data": {
      "text/plain": [
       "[853.6624145507812, 853.6624145507812, 1566169.0]"
      ]
     },
     "execution_count": 39,
     "metadata": {},
     "output_type": "execute_result"
    }
   ],
   "source": [
    "model_N.evaluate(test_dataset)"
   ]
  },
  {
   "cell_type": "code",
   "execution_count": 40,
   "id": "74c9a4f3",
   "metadata": {},
   "outputs": [
    {
     "name": "stdout",
     "output_type": "stream",
     "text": [
      "1/1 [==============================] - 0s 301ms/step\n"
     ]
    },
    {
     "data": {
      "text/plain": [
       "<tf.Tensor: shape=(10,), dtype=float32, numpy=\n",
       "array([61374.492, 62621.703, 66414.15 , 66978.836, 65575.24 , 64964.484,\n",
       "       63940.3  , 64140.34 , 65141.05 , 63853.92 ], dtype=float32)>"
      ]
     },
     "execution_count": 40,
     "metadata": {},
     "output_type": "execute_result"
    }
   ],
   "source": [
    "model_N_preds = make_preds(model_N, test_dataset)\n",
    "model_N_preds[:10]"
   ]
  },
  {
   "cell_type": "code",
   "execution_count": 41,
   "id": "d7e29e33",
   "metadata": {},
   "outputs": [
    {
     "data": {
      "text/plain": [
       "{'mae': 853.6624, 'mse': 1566169.0, 'rmse': 1251.4668, 'mape': 2.49649}"
      ]
     },
     "execution_count": 41,
     "metadata": {},
     "output_type": "execute_result"
    }
   ],
   "source": [
    "model_N_results = evaluate_preds(y_true=y_test,\n",
    "                                 y_pred=model_N_preds)\n",
    "model_N_results"
   ]
  },
  {
   "cell_type": "code",
   "execution_count": 43,
   "id": "f2d73328",
   "metadata": {},
   "outputs": [
    {
     "name": "stdout",
     "output_type": "stream",
     "text": [
      "Collecting pydotNote: you may need to restart the kernel to use updated packages.\n",
      "\n",
      "  Downloading pydot-1.4.2-py2.py3-none-any.whl (21 kB)\n",
      "Requirement already satisfied: pyparsing>=2.1.4 in c:\\users\\sahaj shandilya\\desktop\\sp1\\env\\lib\\site-packages (from pydot) (3.0.9)\n",
      "Installing collected packages: pydot\n",
      "Successfully installed pydot-1.4.2\n"
     ]
    }
   ],
   "source": []
  },
  {
   "cell_type": "code",
   "execution_count": null,
   "id": "88ad624b",
   "metadata": {},
   "outputs": [],
   "source": []
  }
 ],
 "metadata": {
  "kernelspec": {
   "display_name": "Python 3 (ipykernel)",
   "language": "python",
   "name": "python3"
  },
  "language_info": {
   "codemirror_mode": {
    "name": "ipython",
    "version": 3
   },
   "file_extension": ".py",
   "mimetype": "text/x-python",
   "name": "python",
   "nbconvert_exporter": "python",
   "pygments_lexer": "ipython3",
   "version": "3.10.4"
  }
 },
 "nbformat": 4,
 "nbformat_minor": 5
}
